{
 "cells": [
  {
   "cell_type": "markdown",
   "id": "compatible-inside",
   "metadata": {},
   "source": [
    "# Análise do mercado de jogos na steam com foco em efetividade de custo  \n",
    "Integrantes:  \n",
    "Flávio Eduardo Souto Maior Serrano  \n",
    "Erika Janine Lira Dos Santos  \n",
    "Arthur Luis Brito Gurjão  "
   ]
  },
  {
   "cell_type": "markdown",
   "id": "eleven-summary",
   "metadata": {},
   "source": [
    "# Introdução  \n",
    "O mercado de jogos eletrônicos vem crescendo e hoje é um grande mercado que segundo estimativas deve movimentar cerca de 200 bilhões de dólares até 2023, em outra frente temos que cada vez mais é necessário fazer análises de dados para que se possa ser bem sucedido no mercado e criar produtos que as pessoas realmente queiram comprar, tendo em vista esse contexto fizemos uma análise de um dos maiores marketplaces de jogos eletrônicos do mundo, a Steam, a nossa análise tem como objetivo criar um jogo muito popular e que a maioria das pessoas gostem, gastando a menor quantidade de dinheiro possível, essa estratégia vem se tornando cada vez mais popular como podemos ver com os jogos \"Indie\"."
   ]
  },
  {
   "cell_type": "markdown",
   "id": "binary-tissue",
   "metadata": {},
   "source": [
    "# Dados Utilizados"
   ]
  },
  {
   "cell_type": "markdown",
   "id": "characteristic-strain",
   "metadata": {},
   "source": [
    "# Metodologia"
   ]
  },
  {
   "cell_type": "markdown",
   "id": "interested-institution",
   "metadata": {},
   "source": [
    "## Pré-Processamento"
   ]
  },
  {
   "cell_type": "markdown",
   "id": "hollywood-flexibility",
   "metadata": {},
   "source": [
    "## Perguntas"
   ]
  },
  {
   "cell_type": "markdown",
   "id": "desirable-catalog",
   "metadata": {},
   "source": [
    "## Conclusão"
   ]
  },
  {
   "cell_type": "code",
   "execution_count": null,
   "id": "acquired-intro",
   "metadata": {},
   "outputs": [],
   "source": []
  }
 ],
 "metadata": {
  "kernelspec": {
   "display_name": "Python 3",
   "language": "python",
   "name": "python3"
  },
  "language_info": {
   "codemirror_mode": {
    "name": "ipython",
    "version": 3
   },
   "file_extension": ".py",
   "mimetype": "text/x-python",
   "name": "python",
   "nbconvert_exporter": "python",
   "pygments_lexer": "ipython3",
   "version": "3.9.2"
  }
 },
 "nbformat": 4,
 "nbformat_minor": 5
}
