{
 "cells": [
  {
   "cell_type": "markdown",
   "metadata": {},
   "source": [
    "# Introdução à Ciência de Dados - UFPB\n",
    "Professor: Yuri Malheiros\n",
    "\n",
    "## Pandas"
   ]
  },
  {
   "cell_type": "markdown",
   "metadata": {},
   "source": [
    "A partir do dataset `movies.csv` utilize o Pandas para responder as seguintes perguntas:"
   ]
  },
  {
   "cell_type": "code",
   "execution_count": 24,
   "metadata": {},
   "outputs": [
    {
     "data": {
      "text/html": [
       "<div>\n",
       "<style scoped>\n",
       "    .dataframe tbody tr th:only-of-type {\n",
       "        vertical-align: middle;\n",
       "    }\n",
       "\n",
       "    .dataframe tbody tr th {\n",
       "        vertical-align: top;\n",
       "    }\n",
       "\n",
       "    .dataframe thead th {\n",
       "        text-align: right;\n",
       "    }\n",
       "</style>\n",
       "<table border=\"1\" class=\"dataframe\">\n",
       "  <thead>\n",
       "    <tr style=\"text-align: right;\">\n",
       "      <th></th>\n",
       "      <th>Title</th>\n",
       "      <th>US Gross</th>\n",
       "      <th>Worldwide Gross</th>\n",
       "      <th>US DVD Sales</th>\n",
       "      <th>Production Budget</th>\n",
       "      <th>Release Date</th>\n",
       "      <th>MPAA Rating</th>\n",
       "      <th>Running Time (min)</th>\n",
       "      <th>Distributor</th>\n",
       "      <th>Source</th>\n",
       "      <th>Major Genre</th>\n",
       "      <th>Creative Type</th>\n",
       "      <th>Director</th>\n",
       "      <th>Rotten Tomatoes Rating</th>\n",
       "      <th>IMDB Rating</th>\n",
       "      <th>IMDB Votes</th>\n",
       "    </tr>\n",
       "  </thead>\n",
       "  <tbody>\n",
       "    <tr>\n",
       "      <th>0</th>\n",
       "      <td>The Land Girls</td>\n",
       "      <td>146083.00</td>\n",
       "      <td>146083.00</td>\n",
       "      <td>NaN</td>\n",
       "      <td>8000000.00</td>\n",
       "      <td>12-Jun-98</td>\n",
       "      <td>R</td>\n",
       "      <td>NaN</td>\n",
       "      <td>Gramercy</td>\n",
       "      <td>NaN</td>\n",
       "      <td>NaN</td>\n",
       "      <td>NaN</td>\n",
       "      <td>NaN</td>\n",
       "      <td>NaN</td>\n",
       "      <td>6.10</td>\n",
       "      <td>1071.00</td>\n",
       "    </tr>\n",
       "    <tr>\n",
       "      <th>1</th>\n",
       "      <td>First Love, Last Rites</td>\n",
       "      <td>10876.00</td>\n",
       "      <td>10876.00</td>\n",
       "      <td>NaN</td>\n",
       "      <td>300000.00</td>\n",
       "      <td>7-Aug-98</td>\n",
       "      <td>R</td>\n",
       "      <td>NaN</td>\n",
       "      <td>Strand</td>\n",
       "      <td>NaN</td>\n",
       "      <td>Drama</td>\n",
       "      <td>NaN</td>\n",
       "      <td>NaN</td>\n",
       "      <td>NaN</td>\n",
       "      <td>6.90</td>\n",
       "      <td>207.00</td>\n",
       "    </tr>\n",
       "    <tr>\n",
       "      <th>2</th>\n",
       "      <td>I Married a Strange Person</td>\n",
       "      <td>203134.00</td>\n",
       "      <td>203134.00</td>\n",
       "      <td>NaN</td>\n",
       "      <td>250000.00</td>\n",
       "      <td>28-Aug-98</td>\n",
       "      <td>NaN</td>\n",
       "      <td>NaN</td>\n",
       "      <td>Lionsgate</td>\n",
       "      <td>NaN</td>\n",
       "      <td>Comedy</td>\n",
       "      <td>NaN</td>\n",
       "      <td>NaN</td>\n",
       "      <td>NaN</td>\n",
       "      <td>6.80</td>\n",
       "      <td>865.00</td>\n",
       "    </tr>\n",
       "    <tr>\n",
       "      <th>3</th>\n",
       "      <td>Let's Talk About Sex</td>\n",
       "      <td>373615.00</td>\n",
       "      <td>373615.00</td>\n",
       "      <td>NaN</td>\n",
       "      <td>300000.00</td>\n",
       "      <td>11-Sep-98</td>\n",
       "      <td>NaN</td>\n",
       "      <td>NaN</td>\n",
       "      <td>Fine Line</td>\n",
       "      <td>NaN</td>\n",
       "      <td>Comedy</td>\n",
       "      <td>NaN</td>\n",
       "      <td>NaN</td>\n",
       "      <td>13.00</td>\n",
       "      <td>NaN</td>\n",
       "      <td>NaN</td>\n",
       "    </tr>\n",
       "    <tr>\n",
       "      <th>4</th>\n",
       "      <td>Slam</td>\n",
       "      <td>1009819.00</td>\n",
       "      <td>1087521.00</td>\n",
       "      <td>NaN</td>\n",
       "      <td>1000000.00</td>\n",
       "      <td>9-Oct-98</td>\n",
       "      <td>R</td>\n",
       "      <td>NaN</td>\n",
       "      <td>Trimark</td>\n",
       "      <td>Original Screenplay</td>\n",
       "      <td>Drama</td>\n",
       "      <td>Contemporary Fiction</td>\n",
       "      <td>NaN</td>\n",
       "      <td>62.00</td>\n",
       "      <td>3.40</td>\n",
       "      <td>165.00</td>\n",
       "    </tr>\n",
       "  </tbody>\n",
       "</table>\n",
       "</div>"
      ],
      "text/plain": [
       "                        Title   US Gross  Worldwide Gross  US DVD Sales  \\\n",
       "0              The Land Girls  146083.00        146083.00           NaN   \n",
       "1      First Love, Last Rites   10876.00         10876.00           NaN   \n",
       "2  I Married a Strange Person  203134.00        203134.00           NaN   \n",
       "3        Let's Talk About Sex  373615.00        373615.00           NaN   \n",
       "4                        Slam 1009819.00       1087521.00           NaN   \n",
       "\n",
       "   Production Budget Release Date MPAA Rating  Running Time (min) Distributor  \\\n",
       "0         8000000.00    12-Jun-98           R                 NaN    Gramercy   \n",
       "1          300000.00     7-Aug-98           R                 NaN      Strand   \n",
       "2          250000.00    28-Aug-98         NaN                 NaN   Lionsgate   \n",
       "3          300000.00    11-Sep-98         NaN                 NaN   Fine Line   \n",
       "4         1000000.00     9-Oct-98           R                 NaN     Trimark   \n",
       "\n",
       "                Source Major Genre         Creative Type Director  \\\n",
       "0                  NaN         NaN                   NaN      NaN   \n",
       "1                  NaN       Drama                   NaN      NaN   \n",
       "2                  NaN      Comedy                   NaN      NaN   \n",
       "3                  NaN      Comedy                   NaN      NaN   \n",
       "4  Original Screenplay       Drama  Contemporary Fiction      NaN   \n",
       "\n",
       "   Rotten Tomatoes Rating  IMDB Rating  IMDB Votes  \n",
       "0                     NaN         6.10     1071.00  \n",
       "1                     NaN         6.90      207.00  \n",
       "2                     NaN         6.80      865.00  \n",
       "3                   13.00          NaN         NaN  \n",
       "4                   62.00         3.40      165.00  "
      ]
     },
     "execution_count": 24,
     "metadata": {},
     "output_type": "execute_result"
    }
   ],
   "source": [
    "import pandas as pd\n",
    "df= pd.read_csv('https://raw.githubusercontent.com/yurimalheiros/icd/master/datasets/movies.csv')\n",
    "pd.options.display.float_format = '{:.2f}'.format\n",
    "df.head()"
   ]
  },
  {
   "cell_type": "markdown",
   "metadata": {},
   "source": [
    "### Qual o gênero de filme mais lucrativo em todo o mundo?"
   ]
  },
  {
   "cell_type": "markdown",
   "metadata": {},
   "source": [
    "Abaixo temos a criação de um novo campo de lucro e a consulta para saber qual o gênero de filme mais lucrativo do mundo, segue da seguinte maneira: agrupamos os filmes de acordo com o gênero e somamos os valores de seus campos,após isso ordenamos pelo profit descendente e obtemos os 5 primeiros para ter a informação do primeiro gênero mais lucrativo que é Adventure, vale ressaltar que essa análise não levou em consideração a quantidade de filmes por gênero."
   ]
  },
  {
   "cell_type": "code",
   "execution_count": 25,
   "metadata": {},
   "outputs": [
    {
     "data": {
      "text/plain": [
       "Major Genre\n",
       "Adventure           47218059632.00\n",
       "Action              37467427827.00\n",
       "Comedy              31165195798.00\n",
       "Drama               22658955343.00\n",
       "Thriller/Suspense   11373073379.00\n",
       "Name: profit, dtype: float64"
      ]
     },
     "execution_count": 25,
     "metadata": {},
     "output_type": "execute_result"
    }
   ],
   "source": [
    "df['profit']=df['Worldwide Gross']-df['Production Budget']\n",
    "df.groupby(\"Major Genre\").sum().sort_values('profit',ascending=False)['profit'].head()"
   ]
  },
  {
   "cell_type": "markdown",
   "metadata": {},
   "source": [
    "Abaixo, ao invés de usarmos a soma, utilizamos a função de agregação de média que leva em consideração a quantidade indicando ainda mais que adventure é o gênero mais lucrativo"
   ]
  },
  {
   "cell_type": "code",
   "execution_count": 26,
   "metadata": {},
   "outputs": [
    {
     "data": {
      "text/plain": [
       "Major Genre\n",
       "Adventure           172328684.79\n",
       "Action               89208161.49\n",
       "Romantic Comedy      58265843.23\n",
       "Musical              52298504.02\n",
       "Thriller/Suspense    47586081.08\n",
       "Name: profit, dtype: float64"
      ]
     },
     "execution_count": 26,
     "metadata": {},
     "output_type": "execute_result"
    }
   ],
   "source": [
    "df.groupby(\"Major Genre\").mean().sort_values('profit',ascending=False)['profit'].head()"
   ]
  },
  {
   "cell_type": "markdown",
   "metadata": {},
   "source": [
    "Por fim temos a análise do desvio padrão de cada lucro de cada gênero, com ela somada aos dados da célula anterior\n",
    "podemos ver que existe uma grande variação dentro do gênero de aventura, considerando isso podemos indicar que apesar de\n",
    "em médi o gênero de aventura ser o gênero mais lucrativo, existe uma grande diferença entre o filme de aventura mais lucrativo e\n",
    "o menos lucrativo"
   ]
  },
  {
   "cell_type": "code",
   "execution_count": 28,
   "metadata": {},
   "outputs": [
    {
     "data": {
      "text/plain": [
       "Major Genre\n",
       "Adventure           238398699.49\n",
       "Action              179435790.19\n",
       "Thriller/Suspense   139870399.22\n",
       "Romantic Comedy      97291928.50\n",
       "Comedy               89960915.35\n",
       "Name: profit, dtype: float64"
      ]
     },
     "execution_count": 28,
     "metadata": {},
     "output_type": "execute_result"
    }
   ],
   "source": [
    "df.groupby(\"Major Genre\").std().sort_values('profit',ascending=False)['profit'].head()"
   ]
  },
  {
   "cell_type": "markdown",
   "metadata": {},
   "source": [
    "### Qual o diretor dirigiu mais filmes?"
   ]
  },
  {
   "cell_type": "markdown",
   "metadata": {},
   "source": [
    "Abaixo podemos ver na query que o diretor que mais dirigiu filmes foi o Steven Spielberg"
   ]
  },
  {
   "cell_type": "code",
   "execution_count": 35,
   "metadata": {},
   "outputs": [
    {
     "data": {
      "text/plain": [
       "Director\n",
       "Steven Spielberg    23\n",
       "Woody Allen         16\n",
       "Spike Lee           15\n",
       "Martin Scorsese     15\n",
       "Ridley Scott        14\n",
       "Name: Title, dtype: int64"
      ]
     },
     "execution_count": 35,
     "metadata": {},
     "output_type": "execute_result"
    }
   ],
   "source": [
    "df.groupby(\"Director\").count().sort_values('Title',ascending=False)['Title'].head()"
   ]
  },
  {
   "cell_type": "markdown",
   "metadata": {},
   "source": [
    "### Quais filmes tiverem os maiores arrecadações (Gross) em relação ao orçamento de produção (Budget)?"
   ]
  },
  {
   "cell_type": "markdown",
   "metadata": {},
   "source": [
    "Abaixo criamos uma coluna nova chamada cost/benefit que relaciona o total de arrecadações globais com o orçamento,ordenamos os dados por essa coluna e obtemos que a Atividade Paranormal foi o filme com melhor custo benefício."
   ]
  },
  {
   "cell_type": "code",
   "execution_count": 48,
   "metadata": {},
   "outputs": [
    {
     "data": {
      "text/html": [
       "<div>\n",
       "<style scoped>\n",
       "    .dataframe tbody tr th:only-of-type {\n",
       "        vertical-align: middle;\n",
       "    }\n",
       "\n",
       "    .dataframe tbody tr th {\n",
       "        vertical-align: top;\n",
       "    }\n",
       "\n",
       "    .dataframe thead th {\n",
       "        text-align: right;\n",
       "    }\n",
       "</style>\n",
       "<table border=\"1\" class=\"dataframe\">\n",
       "  <thead>\n",
       "    <tr style=\"text-align: right;\">\n",
       "      <th></th>\n",
       "      <th>Title</th>\n",
       "      <th>Worldwide Gross</th>\n",
       "      <th>Production Budget</th>\n",
       "      <th>cost/benefit</th>\n",
       "      <th>profit</th>\n",
       "    </tr>\n",
       "  </thead>\n",
       "  <tbody>\n",
       "    <tr>\n",
       "      <th>2526</th>\n",
       "      <td>Paranormal Activity</td>\n",
       "      <td>193770453.00</td>\n",
       "      <td>15000.00</td>\n",
       "      <td>12918.03</td>\n",
       "      <td>193755453.00</td>\n",
       "    </tr>\n",
       "    <tr>\n",
       "      <th>2920</th>\n",
       "      <td>Tarnation</td>\n",
       "      <td>1162014.00</td>\n",
       "      <td>218.00</td>\n",
       "      <td>5330.34</td>\n",
       "      <td>1161796.00</td>\n",
       "    </tr>\n",
       "    <tr>\n",
       "      <th>244</th>\n",
       "      <td>Deep Throat</td>\n",
       "      <td>45000000.00</td>\n",
       "      <td>25000.00</td>\n",
       "      <td>1800.00</td>\n",
       "      <td>44975000.00</td>\n",
       "    </tr>\n",
       "    <tr>\n",
       "      <th>603</th>\n",
       "      <td>Mad Max</td>\n",
       "      <td>99750000.00</td>\n",
       "      <td>200000.00</td>\n",
       "      <td>498.75</td>\n",
       "      <td>99550000.00</td>\n",
       "    </tr>\n",
       "    <tr>\n",
       "      <th>2758</th>\n",
       "      <td>Super Size Me</td>\n",
       "      <td>29529368.00</td>\n",
       "      <td>65000.00</td>\n",
       "      <td>454.30</td>\n",
       "      <td>29464368.00</td>\n",
       "    </tr>\n",
       "  </tbody>\n",
       "</table>\n",
       "</div>"
      ],
      "text/plain": [
       "                    Title  Worldwide Gross  Production Budget  cost/benefit  \\\n",
       "2526  Paranormal Activity     193770453.00           15000.00      12918.03   \n",
       "2920            Tarnation       1162014.00             218.00       5330.34   \n",
       "244           Deep Throat      45000000.00           25000.00       1800.00   \n",
       "603               Mad Max      99750000.00          200000.00        498.75   \n",
       "2758        Super Size Me      29529368.00           65000.00        454.30   \n",
       "\n",
       "           profit  \n",
       "2526 193755453.00  \n",
       "2920   1161796.00  \n",
       "244   44975000.00  \n",
       "603   99550000.00  \n",
       "2758  29464368.00  "
      ]
     },
     "execution_count": 48,
     "metadata": {},
     "output_type": "execute_result"
    }
   ],
   "source": [
    "df['cost/benefit']=df['Worldwide Gross']/df['Production Budget']\n",
    "df.sort_values('cost/benefit',ascending=False)[['Title','Worldwide Gross','Production Budget','cost/benefit','profit']].head()"
   ]
  },
  {
   "cell_type": "code",
   "execution_count": null,
   "metadata": {},
   "outputs": [],
   "source": []
  }
 ],
 "metadata": {
  "kernelspec": {
   "display_name": "Python 3",
   "language": "python",
   "name": "python3"
  },
  "language_info": {
   "codemirror_mode": {
    "name": "ipython",
    "version": 3
   },
   "file_extension": ".py",
   "mimetype": "text/x-python",
   "name": "python",
   "nbconvert_exporter": "python",
   "pygments_lexer": "ipython3",
   "version": "3.9.2"
  }
 },
 "nbformat": 4,
 "nbformat_minor": 4
}
